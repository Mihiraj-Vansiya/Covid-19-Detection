{
 "cells": [
  {
   "cell_type": "code",
   "execution_count": 1,
   "id": "7a11dc7f",
   "metadata": {},
   "outputs": [],
   "source": [
    "import numpy as np\n",
    "import matplotlib.pyplot as plt\n",
    "import keras\n",
    "from keras.layers import *\n",
    "from keras.models import *\n",
    "from keras.preprocessing import image"
   ]
  },
  {
   "cell_type": "code",
   "execution_count": 4,
   "id": "c9de84cc",
   "metadata": {},
   "outputs": [],
   "source": [
    "#CNN Based Model in Keras\n",
    "\n",
    "model = Sequential()\n",
    "model.add(Conv2D(32,kernel_size=(3,3),activation='relu',input_shape=(224,224,3)))\n",
    "model.add(Conv2D(64,(3,3),activation='relu'))\n",
    "model.add(MaxPooling2D(pool_size=(2,2)))\n",
    "model.add(Dropout(0.25))\n",
    "\n",
    "model.add(Conv2D(64,(3,3),activation='relu'))\n",
    "model.add(MaxPooling2D(pool_size=(2,2)))\n",
    "model.add(Dropout(0.25))\n",
    "\n",
    "model.add(Conv2D(128,(3,3),activation='relu'))\n",
    "model.add(MaxPooling2D(pool_size=(2,2)))\n",
    "model.add(Dropout(0.25))\n",
    "\n",
    "model.add(Flatten())\n",
    "model.add(Dense(64,activation='relu'))\n",
    "model.add(Dropout(0.5))\n",
    "model.add(Dense(1,activation='sigmoid'))\n",
    "\n",
    "model.compile(loss=keras.losses.binary_crossentropy,optimizer='adam',metrics=['accuracy'])"
   ]
  },
  {
   "cell_type": "code",
   "execution_count": 5,
   "id": "88ff18cf",
   "metadata": {},
   "outputs": [
    {
     "name": "stdout",
     "output_type": "stream",
     "text": [
      "Model: \"sequential_1\"\n",
      "_________________________________________________________________\n",
      " Layer (type)                Output Shape              Param #   \n",
      "=================================================================\n",
      " conv2d (Conv2D)             (None, 222, 222, 32)      896       \n",
      "                                                                 \n",
      " conv2d_1 (Conv2D)           (None, 220, 220, 64)      18496     \n",
      "                                                                 \n",
      " max_pooling2d (MaxPooling2  (None, 110, 110, 64)      0         \n",
      " D)                                                              \n",
      "                                                                 \n",
      " dropout (Dropout)           (None, 110, 110, 64)      0         \n",
      "                                                                 \n",
      " conv2d_2 (Conv2D)           (None, 108, 108, 64)      36928     \n",
      "                                                                 \n",
      " max_pooling2d_1 (MaxPoolin  (None, 54, 54, 64)        0         \n",
      " g2D)                                                            \n",
      "                                                                 \n",
      " dropout_1 (Dropout)         (None, 54, 54, 64)        0         \n",
      "                                                                 \n",
      " conv2d_3 (Conv2D)           (None, 52, 52, 128)       73856     \n",
      "                                                                 \n",
      " max_pooling2d_2 (MaxPoolin  (None, 26, 26, 128)       0         \n",
      " g2D)                                                            \n",
      "                                                                 \n",
      " dropout_2 (Dropout)         (None, 26, 26, 128)       0         \n",
      "                                                                 \n",
      " flatten (Flatten)           (None, 86528)             0         \n",
      "                                                                 \n",
      " dense (Dense)               (None, 64)                5537856   \n",
      "                                                                 \n",
      " dropout_3 (Dropout)         (None, 64)                0         \n",
      "                                                                 \n",
      " dense_1 (Dense)             (None, 1)                 65        \n",
      "                                                                 \n",
      "=================================================================\n",
      "Total params: 5668097 (21.62 MB)\n",
      "Trainable params: 5668097 (21.62 MB)\n",
      "Non-trainable params: 0 (0.00 Byte)\n",
      "_________________________________________________________________\n"
     ]
    }
   ],
   "source": [
    "model.summary()"
   ]
  },
  {
   "cell_type": "code",
   "execution_count": 7,
   "id": "e060e836",
   "metadata": {},
   "outputs": [],
   "source": [
    "# Train from scratch\n",
    "train_datagen = image.ImageDataGenerator(\n",
    "    rescale = 1./255,\n",
    "    shear_range = 0.2,\n",
    "    zoom_range = 0.2,\n",
    "    horizontal_flip = True,\n",
    ")\n",
    "\n",
    "test_dataset = image.ImageDataGenerator(rescale=1./255)"
   ]
  },
  {
   "cell_type": "code",
   "execution_count": 12,
   "id": "c14aa349",
   "metadata": {},
   "outputs": [
    {
     "name": "stdout",
     "output_type": "stream",
     "text": [
      "Found 251 images belonging to 3 classes.\n"
     ]
    }
   ],
   "source": [
    "train_generator = train_datagen.flow_from_directory(\n",
    "    'Covid19-dataset/Train',\n",
    "    target_size = (224,224),\n",
    "    batch_size = 32,\n",
    "    class_mode = 'binary')"
   ]
  },
  {
   "cell_type": "code",
   "execution_count": 13,
   "id": "8757a78d",
   "metadata": {},
   "outputs": [
    {
     "name": "stdout",
     "output_type": "stream",
     "text": [
      "Found 66 images belonging to 3 classes.\n"
     ]
    }
   ],
   "source": [
    "validation_generator = train_datagen.flow_from_directory(\n",
    "    'Covid19-dataset/Test',\n",
    "    target_size = (224,224),\n",
    "    batch_size = 32,\n",
    "    class_mode = 'binary')"
   ]
  },
  {
   "cell_type": "code",
   "execution_count": 15,
   "id": "913860fe",
   "metadata": {},
   "outputs": [
    {
     "name": "stderr",
     "output_type": "stream",
     "text": [
      "C:\\Users\\HP\\AppData\\Local\\Temp\\ipykernel_8820\\3819594273.py:1: UserWarning: `Model.fit_generator` is deprecated and will be removed in a future version. Please use `Model.fit`, which supports generators.\n",
      "  hist = model.fit_generator(\n"
     ]
    },
    {
     "name": "stdout",
     "output_type": "stream",
     "text": [
      "Epoch 1/10\n",
      "7/7 [==============================] - 25s 3s/step - loss: 0.3891 - accuracy: 0.2877 - val_loss: -0.1663 - val_accuracy: 0.5156\n",
      "Epoch 2/10\n",
      "7/7 [==============================] - 24s 3s/step - loss: -2.2729 - accuracy: 0.4292 - val_loss: -3.3119 - val_accuracy: 0.3125\n",
      "Epoch 3/10\n",
      "7/7 [==============================] - 24s 3s/step - loss: -21.3996 - accuracy: 0.4155 - val_loss: -51.0874 - val_accuracy: 0.4219\n",
      "Epoch 4/10\n",
      "7/7 [==============================] - 25s 3s/step - loss: -331.5502 - accuracy: 0.4064 - val_loss: -582.4635 - val_accuracy: 0.3125\n",
      "Epoch 5/10\n",
      "7/7 [==============================] - 25s 4s/step - loss: -1196.9214 - accuracy: 0.4566 - val_loss: -3843.7910 - val_accuracy: 0.5156\n",
      "Epoch 6/10\n",
      "7/7 [==============================] - 26s 4s/step - loss: -8421.5322 - accuracy: 0.4703 - val_loss: -17127.1191 - val_accuracy: 0.3750\n",
      "Epoch 7/10\n",
      "7/7 [==============================] - 25s 3s/step - loss: -33041.9297 - accuracy: 0.4384 - val_loss: -52608.1328 - val_accuracy: 0.5469\n",
      "Epoch 8/10\n",
      "7/7 [==============================] - 25s 4s/step - loss: -119089.6016 - accuracy: 0.4201 - val_loss: -242834.1250 - val_accuracy: 0.3750\n",
      "Epoch 9/10\n",
      "7/7 [==============================] - 25s 3s/step - loss: -329108.1562 - accuracy: 0.4064 - val_loss: -632951.5000 - val_accuracy: 0.5156\n",
      "Epoch 10/10\n",
      "7/7 [==============================] - 25s 4s/step - loss: -896276.9375 - accuracy: 0.4612 - val_loss: -1809665.2500 - val_accuracy: 0.3906\n"
     ]
    }
   ],
   "source": [
    "hist = model.fit_generator(\n",
    "    train_generator,\n",
    "    steps_per_epoch=7,\n",
    "    epochs=10,\n",
    "    validation_data = validation_generator,\n",
    "    validation_steps = 2\n",
    ")"
   ]
  },
  {
   "cell_type": "code",
   "execution_count": 16,
   "id": "9df81932",
   "metadata": {},
   "outputs": [
    {
     "name": "stderr",
     "output_type": "stream",
     "text": [
      "C:\\Users\\HP\\anaconda3\\lib\\site-packages\\keras\\src\\engine\\training.py:3000: UserWarning: You are saving your model as an HDF5 file via `model.save()`. This file format is considered legacy. We recommend using instead the native Keras format, e.g. `model.save('my_model.keras')`.\n",
      "  saving_api.save_model(\n"
     ]
    }
   ],
   "source": [
    "model.save(\"model_adv.h5\")"
   ]
  },
  {
   "cell_type": "code",
   "execution_count": 17,
   "id": "f4d68659",
   "metadata": {},
   "outputs": [
    {
     "name": "stderr",
     "output_type": "stream",
     "text": [
      "C:\\Users\\HP\\AppData\\Local\\Temp\\ipykernel_8820\\326654268.py:1: UserWarning: `Model.evaluate_generator` is deprecated and will be removed in a future version. Please use `Model.evaluate`, which supports generators.\n",
      "  model.evaluate_generator(train_generator)\n"
     ]
    },
    {
     "data": {
      "text/plain": [
       "[-1510104.125, 0.350597620010376]"
      ]
     },
     "execution_count": 17,
     "metadata": {},
     "output_type": "execute_result"
    }
   ],
   "source": [
    "model.evaluate_generator(train_generator)"
   ]
  },
  {
   "cell_type": "code",
   "execution_count": 18,
   "id": "084e7e31",
   "metadata": {},
   "outputs": [
    {
     "name": "stderr",
     "output_type": "stream",
     "text": [
      "C:\\Users\\HP\\AppData\\Local\\Temp\\ipykernel_8820\\3378472596.py:1: UserWarning: `Model.evaluate_generator` is deprecated and will be removed in a future version. Please use `Model.evaluate`, which supports generators.\n",
      "  model.evaluate_generator(validation_generator)\n"
     ]
    },
    {
     "data": {
      "text/plain": [
       "[-1424232.875, 0.3333333432674408]"
      ]
     },
     "execution_count": 18,
     "metadata": {},
     "output_type": "execute_result"
    }
   ],
   "source": [
    "model.evaluate_generator(validation_generator)"
   ]
  },
  {
   "cell_type": "code",
   "execution_count": 20,
   "id": "bb8e2781",
   "metadata": {},
   "outputs": [],
   "source": [
    "model = load_model(\"model_adv.h5\")"
   ]
  },
  {
   "cell_type": "code",
   "execution_count": 21,
   "id": "87624b3f",
   "metadata": {},
   "outputs": [],
   "source": [
    "import os"
   ]
  },
  {
   "cell_type": "code",
   "execution_count": 22,
   "id": "8f2a8483",
   "metadata": {},
   "outputs": [
    {
     "data": {
      "text/plain": [
       "{'Covid': 0, 'Normal': 1, 'Viral Pneumonia': 2}"
      ]
     },
     "execution_count": 22,
     "metadata": {},
     "output_type": "execute_result"
    }
   ],
   "source": [
    "train_generator.class_indices"
   ]
  },
  {
   "cell_type": "code",
   "execution_count": 23,
   "id": "57077cd1",
   "metadata": {},
   "outputs": [],
   "source": [
    "y_actual = []\n",
    "y_test = []"
   ]
  },
  {
   "cell_type": "code",
   "execution_count": 25,
   "id": "a850fa3c",
   "metadata": {},
   "outputs": [
    {
     "name": "stdout",
     "output_type": "stream",
     "text": [
      "1/1 [==============================] - 0s 108ms/step\n",
      "1/1 [==============================] - 0s 27ms/step\n",
      "1/1 [==============================] - 0s 27ms/step\n",
      "1/1 [==============================] - 0s 33ms/step\n",
      "1/1 [==============================] - 0s 47ms/step\n",
      "1/1 [==============================] - 0s 34ms/step\n",
      "1/1 [==============================] - 0s 35ms/step\n",
      "1/1 [==============================] - 0s 34ms/step\n",
      "1/1 [==============================] - 0s 24ms/step\n",
      "1/1 [==============================] - 0s 35ms/step\n",
      "1/1 [==============================] - 0s 28ms/step\n",
      "1/1 [==============================] - 0s 36ms/step\n",
      "1/1 [==============================] - 0s 35ms/step\n",
      "1/1 [==============================] - 0s 34ms/step\n",
      "1/1 [==============================] - 0s 26ms/step\n",
      "1/1 [==============================] - 0s 31ms/step\n",
      "1/1 [==============================] - 0s 31ms/step\n",
      "1/1 [==============================] - 0s 31ms/step\n",
      "1/1 [==============================] - 0s 31ms/step\n",
      "1/1 [==============================] - 0s 29ms/step\n"
     ]
    }
   ],
   "source": [
    "from PIL import Image\n",
    "for i in os.listdir(\"Covid19-dataset/test/Normal/\"):\n",
    "    img = image.load_img(\"Covid19-dataset/test/Normal/\"+i, target_size=(224,224))\n",
    "    img = image.img_to_array(img)\n",
    "    img = np.expand_dims(img, axis=0)\n",
    "    p = model.predict(img)\n",
    "    y_test.append(p[0,0])\n",
    "    y_actual.append(1)"
   ]
  },
  {
   "cell_type": "code",
   "execution_count": 26,
   "id": "55c89a20",
   "metadata": {},
   "outputs": [
    {
     "name": "stdout",
     "output_type": "stream",
     "text": [
      "1/1 [==============================] - 0s 35ms/step\n",
      "1/1 [==============================] - 0s 29ms/step\n",
      "1/1 [==============================] - 0s 29ms/step\n",
      "1/1 [==============================] - 0s 29ms/step\n",
      "1/1 [==============================] - 0s 30ms/step\n",
      "1/1 [==============================] - 0s 19ms/step\n",
      "1/1 [==============================] - 0s 23ms/step\n",
      "1/1 [==============================] - 0s 21ms/step\n",
      "1/1 [==============================] - 0s 34ms/step\n",
      "1/1 [==============================] - 0s 34ms/step\n",
      "1/1 [==============================] - 0s 31ms/step\n",
      "1/1 [==============================] - 0s 35ms/step\n",
      "1/1 [==============================] - 0s 35ms/step\n",
      "1/1 [==============================] - 0s 34ms/step\n",
      "1/1 [==============================] - 0s 42ms/step\n",
      "1/1 [==============================] - 0s 36ms/step\n",
      "1/1 [==============================] - 0s 32ms/step\n",
      "1/1 [==============================] - 0s 34ms/step\n",
      "1/1 [==============================] - 0s 48ms/step\n",
      "1/1 [==============================] - 0s 35ms/step\n",
      "1/1 [==============================] - 0s 23ms/step\n",
      "1/1 [==============================] - 0s 29ms/step\n",
      "1/1 [==============================] - 0s 29ms/step\n",
      "1/1 [==============================] - 0s 30ms/step\n",
      "1/1 [==============================] - 0s 33ms/step\n",
      "1/1 [==============================] - 0s 37ms/step\n"
     ]
    }
   ],
   "source": [
    "from PIL import Image\n",
    "for i in os.listdir(\"Covid19-dataset/test/Covid/\"):\n",
    "    img = image.load_img(\"Covid19-dataset/test/Covid/\"+i, target_size=(224,224))\n",
    "    img = image.img_to_array(img)\n",
    "    img = np.expand_dims(img, axis=0)\n",
    "    p = model.predict(img)\n",
    "    y_test.append(p[0,0])\n",
    "    y_actual.append(1)"
   ]
  },
  {
   "cell_type": "code",
   "execution_count": 27,
   "id": "6cd70577",
   "metadata": {},
   "outputs": [],
   "source": [
    "y_actual = np.array(y_actual)\n",
    "y_test = np.array(y_test)"
   ]
  },
  {
   "cell_type": "code",
   "execution_count": 28,
   "id": "b2f0591a",
   "metadata": {},
   "outputs": [],
   "source": [
    "from sklearn.metrics import confusion_matrix"
   ]
  },
  {
   "cell_type": "code",
   "execution_count": 29,
   "id": "55aafe43",
   "metadata": {},
   "outputs": [],
   "source": [
    "import seaborn as sns"
   ]
  },
  {
   "cell_type": "code",
   "execution_count": 30,
   "id": "5d314c61",
   "metadata": {},
   "outputs": [],
   "source": [
    "cm = confusion_matrix(y_actual,y_test)"
   ]
  },
  {
   "cell_type": "code",
   "execution_count": 31,
   "id": "46a2d662",
   "metadata": {},
   "outputs": [
    {
     "data": {
      "text/plain": [
       "<Axes: >"
      ]
     },
     "execution_count": 31,
     "metadata": {},
     "output_type": "execute_result"
    },
    {
     "data": {
      "image/png": "[encoded data removed]",
      "text/plain": [
       "<Figure size 432x288 with 2 Axes>"
      ]
     },
     "metadata": {
      "needs_background": "light"
     },
     "output_type": "display_data"
    }
   ],
   "source": [
    "import seaborn as sns\n",
    "sns.heatmap(cm, cmap=None, annot=True)"
   ]
  },
  {
   "cell_type": "code",
   "execution_count": 33,
   "id": "858f1350",
   "metadata": {},
   "outputs": [
    {
     "data": {
      "image/png": "[encoded data removed]",
      "text/plain": [
       "<Figure size 432x288 with 1 Axes>"
      ]
     },
     "metadata": {
      "needs_background": "light"
     },
     "output_type": "display_data"
    }
   ],
   "source": [
    "import matplotlib.pyplot as plt\n",
    "loss = hist.history['loss']\n",
    "val_loss = hist.history['val_loss']\n",
    "epochs = range(1, len(loss) + 1)\n",
    "plt.plot(epochs, loss, color='red', label='Trainig loss')\n",
    "plt.plot(epochs, val_loss, color='green', label='Validation loss')\n",
    "plt.title('Training and validation loss')\n",
    "plt.xlabel('Epochs')\n",
    "plt.ylabel('Loss')\n",
    "plt.legend()\n",
    "plt.show()"
   ]
  },
  {
   "cell_type": "code",
   "execution_count": 34,
   "id": "0a6b3be3",
   "metadata": {},
   "outputs": [
    {
     "data": {
      "image/png": "[encoded data removed]",
      "text/plain": [
       "<Figure size 432x288 with 1 Axes>"
      ]
     },
     "metadata": {
      "needs_background": "light"
     },
     "output_type": "display_data"
    }
   ],
   "source": [
    "acc = hist.history['accuracy']\n",
    "val_acc = hist.history['val_accuracy']\n",
    "plt.plot(epochs, acc, color='red', label='Trainig acc')\n",
    "plt.plot(epochs, val_acc, color='green', label='Validation acc')\n",
    "plt.title('Training and validation accuracy')\n",
    "plt.xlabel('Epochs')\n",
    "plt.ylabel('Loss')\n",
    "plt.legend()\n",
    "plt.show()"
   ]
  },
  {
   "cell_type": "code",
   "execution_count": 35,
   "id": "e2ff5275",
   "metadata": {},
   "outputs": [
    {
     "data": {
      "text/plain": [
       "(200, 200)"
      ]
     },
     "metadata": {},
     "output_type": "display_data"
    },
    {
     "name": "stdout",
     "output_type": "stream",
     "text": [
      "1/1 [==============================] - 0s 32ms/step\n",
      "\u001b[92mRadiologist: COVID-19 -ve\u001b[92m\n",
      "CNN Model: COVID-19 -ve\n"
     ]
    },
    {
     "data": {
      "text/plain": [
       "(200, 200)"
      ]
     },
     "metadata": {},
     "output_type": "display_data"
    },
    {
     "name": "stdout",
     "output_type": "stream",
     "text": [
      "1/1 [==============================] - 0s 32ms/step\n",
      "\u001b[92mRadiologist: COVID-19 -ve\u001b[92m\n",
      "CNN Model: COVID-19 -ve\n"
     ]
    },
    {
     "data": {
      "text/plain": [
       "(200, 200)"
      ]
     },
     "metadata": {},
     "output_type": "display_data"
    },
    {
     "name": "stdout",
     "output_type": "stream",
     "text": [
      "1/1 [==============================] - 0s 40ms/step\n",
      "\u001b[92mRadiologist: COVID-19 -ve\u001b[92m\n",
      "CNN Model: COVID-19 -ve\n"
     ]
    },
    {
     "data": {
      "text/plain": [
       "(200, 200)"
      ]
     },
     "metadata": {},
     "output_type": "display_data"
    },
    {
     "name": "stdout",
     "output_type": "stream",
     "text": [
      "1/1 [==============================] - 0s 40ms/step\n",
      "\u001b[92mRadiologist: COVID-19 -ve\u001b[92m\n",
      "CNN Model: COVID-19 -ve\n"
     ]
    },
    {
     "data": {
      "text/plain": [
       "(200, 200)"
      ]
     },
     "metadata": {},
     "output_type": "display_data"
    },
    {
     "name": "stdout",
     "output_type": "stream",
     "text": [
      "1/1 [==============================] - 0s 40ms/step\n",
      "\u001b[92mRadiologist: COVID-19 -ve\u001b[92m\n",
      "CNN Model: COVID-19 -ve\n"
     ]
    },
    {
     "data": {
      "text/plain": [
       "(200, 200)"
      ]
     },
     "metadata": {},
     "output_type": "display_data"
    },
    {
     "name": "stdout",
     "output_type": "stream",
     "text": [
      "1/1 [==============================] - 0s 40ms/step\n",
      "\u001b[91mRadiologist: COVID-19 -ve\u001b[91m\n",
      "CNN Model: COVID-19 -ve\n"
     ]
    },
    {
     "data": {
      "text/plain": [
       "(200, 200)"
      ]
     },
     "metadata": {},
     "output_type": "display_data"
    },
    {
     "name": "stdout",
     "output_type": "stream",
     "text": [
      "1/1 [==============================] - 0s 40ms/step\n",
      "\u001b[91mRadiologist: COVID-19 -ve\u001b[91m\n",
      "\u001b[92mCNN: COVID-19 +ve\u001b[92m\n"
     ]
    },
    {
     "data": {
      "text/plain": [
       "(200, 200)"
      ]
     },
     "metadata": {},
     "output_type": "display_data"
    },
    {
     "name": "stdout",
     "output_type": "stream",
     "text": [
      "1/1 [==============================] - 0s 42ms/step\n",
      "\u001b[91mRadiologist: COVID-19 -ve\u001b[91m\n",
      "CNN Model: COVID-19 -ve\n"
     ]
    },
    {
     "data": {
      "text/plain": [
       "(200, 200)"
      ]
     },
     "metadata": {},
     "output_type": "display_data"
    },
    {
     "name": "stdout",
     "output_type": "stream",
     "text": [
      "1/1 [==============================] - 0s 40ms/step\n",
      "\u001b[91mRadiologist: COVID-19 -ve\u001b[91m\n",
      "CNN Model: COVID-19 -ve\n"
     ]
    },
    {
     "data": {
      "text/plain": [
       "(200, 200)"
      ]
     },
     "metadata": {},
     "output_type": "display_data"
    },
    {
     "name": "stdout",
     "output_type": "stream",
     "text": [
      "1/1 [==============================] - 0s 41ms/step\n",
      "\u001b[91mRadiologist: COVID-19 -ve\u001b[91m\n",
      "CNN Model: COVID-19 -ve\n"
     ]
    }
   ],
   "source": [
    "class color:\n",
    "    GREEN = '\\033[92m'\n",
    "    RED = '\\033[91m'\n",
    "\n",
    "from PIL import Image\n",
    "j = 0\n",
    "for i in os.listdir(\"Covid19-dataset/test/Normal/\"):\n",
    "    j=j+1\n",
    "    pil_img = Image.open('Covid19-dataset/test/Normal/'+i)\n",
    "    im = pil_img\n",
    "    size = (200,200)\n",
    "    \n",
    "    #resize image\n",
    "    out = im.resize(size)\n",
    "    display(size)\n",
    "    img = image.load_img(\"Covid19-dataset/test/Normal/\"+i, target_size = (224,224))\n",
    "    img = image.img_to_array(img)\n",
    "    img = np.expand_dims(img, axis=0)\n",
    "    p = model.predict(img)\n",
    "    print(color.GREEN + 'Radiologist: COVID-19 -ve' + color.GREEN)\n",
    "    \n",
    "    if p==0:\n",
    "        print(color.RED + 'CNN: COVID-19 +ve' + color.RED)\n",
    "    else:\n",
    "        print(\"CNN Model: COVID-19 -ve\")\n",
    "    if (j==5):\n",
    "        break\n",
    "        \n",
    "from PIL import Image\n",
    "j = 0\n",
    "for i in os.listdir(\"Covid19-dataset/test/Covid/\"):\n",
    "    j=j+1\n",
    "    pil_img = Image.open('Covid19-dataset/test/Covid/'+i)\n",
    "    im = pil_img\n",
    "    size = (200,200)\n",
    "    \n",
    "    #resize image\n",
    "    out = im.resize(size)\n",
    "    display(size)\n",
    "    img = image.load_img(\"Covid19-dataset/test/Covid/\"+i, target_size = (224,224))\n",
    "    img = image.img_to_array(img)\n",
    "    img = np.expand_dims(img, axis=0)\n",
    "    p = model.predict(img)\n",
    "    print(color.RED + 'Radiologist: COVID-19 -ve' + color.RED)\n",
    "    \n",
    "    if p==0:\n",
    "        print(color.GREEN + 'CNN: COVID-19 +ve' + color.GREEN)\n",
    "    else:\n",
    "        print(\"CNN Model: COVID-19 -ve\")\n",
    "    if (j==5):\n",
    "        break"
   ]
  },
  {
   "cell_type": "code",
   "execution_count": null,
   "id": "b035abba",
   "metadata": {},
   "outputs": [],
   "source": []
  }
 ],
 "metadata": {
  "kernelspec": {
   "display_name": "Python 3 (ipykernel)",
   "language": "python",
   "name": "python3"
  },
  "language_info": {
   "codemirror_mode": {
    "name": "ipython",
    "version": 3
   },
   "file_extension": ".py",
   "mimetype": "text/x-python",
   "name": "python",
   "nbconvert_exporter": "python",
   "pygments_lexer": "ipython3",
   "version": "3.10.9"
  }
 },
 "nbformat": 4,
 "nbformat_minor": 5
}
